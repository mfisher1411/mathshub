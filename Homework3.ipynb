{
  "nbformat": 4,
  "nbformat_minor": 0,
  "metadata": {
    "colab": {
      "provenance": [],
      "collapsed_sections": []
    },
    "kernelspec": {
      "name": "python3",
      "display_name": "Python 3"
    },
    "language_info": {
      "name": "python"
    }
  },
  "cells": [
    {
      "cell_type": "markdown",
      "source": [
        "# Домашнее задание №3"
      ],
      "metadata": {
        "id": "ZEfFasFJqw1A"
      }
    },
    {
      "cell_type": "markdown",
      "source": [
        "Во всех задачах для ввода данных используйте `input()`, а для вывода данных используйте `print()`"
      ],
      "metadata": {
        "id": "DCG5sNU051Re"
      }
    },
    {
      "cell_type": "markdown",
      "source": [
        "## Задача №1\n",
        "\n",
        "**Условие:** Необходимо ввести с клавиатуры последовательность натуральных чисел, каждое число на новой строке. Последовательность завершается числом 0. Необходимо найти наибольший элемент в последовательности.\n",
        "\n",
        "**Пример для проверки:**  \n",
        "*Входные данные*     \n",
        "1                       \n",
        "8  \n",
        "4  \n",
        "0  \n",
        "*Выходные данные*   \n",
        "8\n"
      ],
      "metadata": {
        "id": "NFpHXzQ6qJxb"
      }
    },
    {
      "cell_type": "code",
      "source": [
        "\n",
        "find_max_array = []\n",
        "flag = True\n",
        "while flag:\n",
        "  num = int(input())\n",
        "  if num != 0:\n",
        "    find_max_array.append(num)\n",
        "  else:\n",
        "    flag = False\n",
        "print(max(find_max_array))"
      ],
      "metadata": {
        "colab": {
          "base_uri": "https://localhost:8080/"
        },
        "id": "9lgjkNSRFa9X",
        "outputId": "7b1896a7-1417-42c8-8140-caecd2bcb7ed"
      },
      "execution_count": 21,
      "outputs": [
        {
          "output_type": "stream",
          "name": "stdout",
          "text": [
            "5\n",
            "3\n",
            "19\n",
            "55\n",
            "43\n",
            "23\n",
            "89\n",
            "43\n",
            "88\n",
            "32\n",
            "81\n",
            "12\n",
            "89\n",
            "11\n",
            "0\n",
            "89\n"
          ]
        }
      ]
    },
    {
      "cell_type": "markdown",
      "source": [
        "## Задача №2\n",
        "\n",
        "**Условие:** Дана строка. Необходимо удалить из этой строки все символы %. Для решения задачи используйте цикл.\n",
        "\n",
        "**Пример для проверки:**  \n",
        "*Входные данные*  \n",
        "GHRE%%%%fd%dfjkan%%fleo%%%%r%fe%  \n",
        "*Выходные данные*  \n",
        "GHREfddfjkanfleorfe\n",
        "\n",
        "\n"
      ],
      "metadata": {
        "id": "BXBB8FYxVrQ7"
      }
    },
    {
      "cell_type": "code",
      "source": [
        "input_str = str(input())\n",
        "str_list = []\n",
        "for i in input_str:\n",
        "  if i != '%':\n",
        "    str_list.append(i)\n",
        "  else:\n",
        "    continue\n",
        "#print(str_list)\n",
        "print(''.join(str(e) for e in str_list))\n"
      ],
      "metadata": {
        "colab": {
          "base_uri": "https://localhost:8080/"
        },
        "id": "rVec_jMoJUA0",
        "outputId": "07b990ca-8acd-4973-8a4a-9b8aff6f4255"
      },
      "execution_count": 36,
      "outputs": [
        {
          "output_type": "stream",
          "name": "stdout",
          "text": [
            "%%4%5%6%7%qwer%ty%%..%\n",
            "4567qwerty..\n"
          ]
        }
      ]
    },
    {
      "cell_type": "markdown",
      "source": [
        "## Задача №3\n",
        "\n",
        "**Условие:** Даны два целых числа A и B (при этом A ≤ B). Выведите все числа от A включительно до B включительно (математическая запись - [A, B]).\n",
        "\n",
        "**Пример для проверки:**  \n",
        "*Входные данные*  \n",
        "1  \n",
        "10  \n",
        "*Выходные данные*  \n",
        "1 2 3 4 5 6 7 8 9 10\n",
        "\n"
      ],
      "metadata": {
        "id": "x8ciCybeW2xC"
      }
    },
    {
      "cell_type": "code",
      "source": [
        "num_start = int(input())\n",
        "num_end = int(input())\n",
        "for i in range(num_start, num_end+1):\n",
        "  print(f\"{i} \",end='')"
      ],
      "metadata": {
        "colab": {
          "base_uri": "https://localhost:8080/"
        },
        "id": "2a4XqxNVMqC5",
        "outputId": "f0ab4fd6-4d54-4330-9e1e-c375cc17edd1"
      },
      "execution_count": 40,
      "outputs": [
        {
          "output_type": "stream",
          "name": "stdout",
          "text": [
            "-5\n",
            "12\n",
            "-5 -4 -3 -2 -1 0 1 2 3 4 5 6 7 8 9 10 11 12 "
          ]
        }
      ]
    },
    {
      "cell_type": "markdown",
      "source": [
        "## Задача №4\n",
        "\n",
        "**Условие:** Необходимо ввести с клавиатуры 10 целых чисел. Вычислите сумму введенных чисел. \n",
        "\n",
        "**Пример для проверки:**  \n",
        "*Входные данные*  \n",
        "8  \n",
        "4  \n",
        "5  \n",
        "3  \n",
        "9  \n",
        "2  \n",
        "3   \n",
        "4  \n",
        "5  \n",
        "1  \n",
        "*Выходные данные*  \n",
        "44\n"
      ],
      "metadata": {
        "id": "VJZuJcAAX2Td"
      }
    },
    {
      "cell_type": "code",
      "source": [
        "sum = 0\n",
        "for i in range(10):\n",
        "  num = int(input())\n",
        "  sum += num\n",
        "print(sum)"
      ],
      "metadata": {
        "colab": {
          "base_uri": "https://localhost:8080/"
        },
        "id": "VNHQ74PeODql",
        "outputId": "49c40c96-c36d-469c-bbd2-162a8f60bce9"
      },
      "execution_count": 32,
      "outputs": [
        {
          "output_type": "stream",
          "name": "stdout",
          "text": [
            "758\n",
            "483\n",
            "893\n",
            "393\n",
            "293\n",
            "292\n",
            "292\n",
            "485\n",
            "828\n",
            "183\n",
            "4900\n"
          ]
        }
      ]
    },
    {
      "cell_type": "code",
      "source": [
        "num = 10\n",
        "sum = 0\n",
        "while num !=0:\n",
        "  input_num = int(input())\n",
        "  sum += input_num\n",
        "  num -= 1\n",
        "print(sum)"
      ],
      "metadata": {
        "colab": {
          "base_uri": "https://localhost:8080/"
        },
        "id": "KOL2Q_FjRrIa",
        "outputId": "3bb9b086-2c3d-4d7d-979a-1b84e3ba667a"
      },
      "execution_count": 35,
      "outputs": [
        {
          "output_type": "stream",
          "name": "stdout",
          "text": [
            "758\n",
            "483\n",
            "893\n",
            "393\n",
            "293\n",
            "292\n",
            "292\n",
            "485\n",
            "828\n",
            "183\n",
            "4900\n"
          ]
        }
      ]
    },
    {
      "cell_type": "markdown",
      "source": [
        "## Задача №5\n",
        "\n",
        "**Условие:** Факториалом числа n называется произведение 1 * 2 * ... * n. Обозначение: n!.\n",
        "Введите с клавиатуры натуральное число n. Вычислите значение n!. \n",
        "\n",
        "В решении задачи нельзя использовать математическую библиотеку math.\n",
        "\n",
        "**Пример для проверки:**  \n",
        "*Входные данные*  \n",
        "7  \n",
        "*Выходные данные*  \n",
        "5040\n",
        "\n"
      ],
      "metadata": {
        "id": "Muk2CUktYmUk"
      }
    },
    {
      "cell_type": "code",
      "source": [
        "num = int(input())\n",
        "mul = 1\n",
        "for i in range(1, num+1):\n",
        "  mul *= i\n",
        "print(mul)"
      ],
      "metadata": {
        "colab": {
          "base_uri": "https://localhost:8080/"
        },
        "id": "bqb3Wj0zOlX9",
        "outputId": "1d901841-8f92-40b0-db28-274e675fcc50"
      },
      "execution_count": 33,
      "outputs": [
        {
          "output_type": "stream",
          "name": "stdout",
          "text": [
            "12\n",
            "479001600\n"
          ]
        }
      ]
    }
  ]
}